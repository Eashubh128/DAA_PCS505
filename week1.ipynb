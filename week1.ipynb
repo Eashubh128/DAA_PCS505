{
 "cells": [
  {
   "cell_type": "code",
   "execution_count": 4,
   "id": "0a487550",
   "metadata": {},
   "outputs": [],
   "source": [
    "# QUESTION 1\n",
    "def question_1():\n",
    "    tst_Cases=int(input())\n",
    "    found=0\n",
    "    for i in range(tst_Cases):\n",
    "        length=int(input())\n",
    "        elements=input().split()\n",
    "        key=input()\n",
    "        for i in range(length):\n",
    "            if elements[i]==key:\n",
    "                print(\"present \",i+1)\n",
    "                found=1\n",
    "                break\n",
    "    if found == 0:\n",
    "            print(\"not present \", length)\n",
    "question_1()"
   ]
  },
  {
   "cell_type": "code",
   "execution_count": 21,
   "id": "c213c4db",
   "metadata": {},
   "outputs": [
    {
     "name": "stdout",
     "output_type": "stream",
     "text": [
      "1\n",
      "5\n",
      "1 2 3 4 5 \n",
      "5\n",
      "Present  5\n"
     ]
    }
   ],
   "source": [
    "#QUESTION 2\n",
    "def question_2():\n",
    "    tst_Cases=int(input())\n",
    "    for i in range(tst_Cases):\n",
    "        length=int(input())\n",
    "        elements=input().split()\n",
    "        key=int(input())\n",
    "        search(0,length-1,elements,key)\n",
    "        \n",
    "def search(start,length,elements,key): \n",
    "    ctr=0\n",
    "    mid=start+(length-start)\n",
    "    if key == int(elements[mid]):\n",
    "        ctr+=1 \n",
    "        print(\"Present \",mid+1)\n",
    "        \n",
    "    elif key<int(elements[mid]):\n",
    "        #left sub_list\n",
    "        ctr+=1\n",
    "        search(start,mid-1,elements,key)\n",
    "    elif key>int(elements[mid]):\n",
    "        #right sub_list\n",
    "        ctr+=1\n",
    "        search(mid+1,length,elements,key)\n",
    "    else:\n",
    "        print(\"not present \",ctr)\n",
    "        \n",
    "    \n",
    "question_2()"
   ]
  },
  {
   "cell_type": "code",
   "execution_count": 6,
   "id": "94bfe532",
   "metadata": {
    "scrolled": true
   },
   "outputs": [
    {
     "name": "stdout",
     "output_type": "stream",
     "text": [
      "1\n",
      "6\n",
      "1 2 3 4 5 6 \n",
      "7\n",
      "not present  6\n"
     ]
    }
   ],
   "source": [
    "#QUESTION 3 (JUMP SEARCH)\n",
    "def question_3():\n",
    "    tst_Cases=int(input())\n",
    "    for i in range(tst_Cases):\n",
    "        length=int(input())\n",
    "        elements=input().split()\n",
    "        key=int(input())\n",
    "        jump_search(elements,length,key)\n",
    "def jump_search(elements,length,key):\n",
    "    i=0\n",
    "    ctr=0 \n",
    "    found=0\n",
    "    while i<length:\n",
    "        ctr+=1\n",
    "        if int(elements[i])==key:\n",
    "            found=1\n",
    "            print(\"present \",ctr)\n",
    "            break\n",
    "        ctr+=1\n",
    "        if int(elements[i])>key:\n",
    "            x=i-2\n",
    "            for j in range(x,i+1):\n",
    "                ctr+=1\n",
    "                if int(elements[j])==key:\n",
    "                    found=1\n",
    "                    print(\"present\",ctr)\n",
    "                    break\n",
    "        \n",
    "        i=i+2\n",
    "    if found==0:\n",
    "        print(\"not present \",ctr)\n",
    "        \n",
    "question_3()"
   ]
  },
  {
   "cell_type": "code",
   "execution_count": null,
   "id": "638089f4",
   "metadata": {},
   "outputs": [],
   "source": []
  }
 ],
 "metadata": {
  "kernelspec": {
   "display_name": "Python 3",
   "language": "python",
   "name": "python3"
  },
  "language_info": {
   "codemirror_mode": {
    "name": "ipython",
    "version": 3
   },
   "file_extension": ".py",
   "mimetype": "text/x-python",
   "name": "python",
   "nbconvert_exporter": "python",
   "pygments_lexer": "ipython3",
   "version": "3.6.4"
  }
 },
 "nbformat": 4,
 "nbformat_minor": 5
}
