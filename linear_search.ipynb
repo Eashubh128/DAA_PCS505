{
 "cells": [
  {
   "cell_type": "code",
   "execution_count": 24,
   "id": "91fbb090",
   "metadata": {},
   "outputs": [
    {
     "name": "stdout",
     "output_type": "stream",
     "text": [
      "enter the value you want to search 4444444444444444\n",
      "total comparisions :  16\n"
     ]
    }
   ],
   "source": [
    "sample_list=[10,4,6,7,435,546,457,564,453,5632,452,324,5,56,345,52456,]\n",
    "key=int(input(\"enter the value you want to search \"))\n",
    "comparisions=0\n",
    "for i in range(len(sample_list)):\n",
    "    comparisions+=1\n",
    "    if key==sample_list[i]:\n",
    "        print(\"found at\",i+1)\n",
    "        break\n",
    "print(\"total comparisions : \",comparisions)"
   ]
  },
  {
   "cell_type": "code",
   "execution_count": null,
   "id": "91d31e2a",
   "metadata": {},
   "outputs": [],
   "source": []
  },
  {
   "cell_type": "code",
   "execution_count": null,
   "id": "c4a5e93e",
   "metadata": {},
   "outputs": [],
   "source": []
  },
  {
   "cell_type": "code",
   "execution_count": null,
   "id": "4f066776",
   "metadata": {},
   "outputs": [],
   "source": []
  }
 ],
 "metadata": {
  "kernelspec": {
   "display_name": "Python 3",
   "language": "python",
   "name": "python3"
  },
  "language_info": {
   "codemirror_mode": {
    "name": "ipython",
    "version": 3
   },
   "file_extension": ".py",
   "mimetype": "text/x-python",
   "name": "python",
   "nbconvert_exporter": "python",
   "pygments_lexer": "ipython3",
   "version": "3.6.4"
  }
 },
 "nbformat": 4,
 "nbformat_minor": 5
}
